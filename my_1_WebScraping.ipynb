{
  "nbformat": 4,
  "nbformat_minor": 0,
  "metadata": {
    "colab": {
      "name": "my_1_WebScraping.ipynb",
      "provenance": [],
      "authorship_tag": "ABX9TyMcklora2kLI777rFTDnpXf",
      "include_colab_link": true
    },
    "kernelspec": {
      "name": "python3",
      "display_name": "Python 3"
    },
    "language_info": {
      "name": "python"
    }
  },
  "cells": [
    {
      "cell_type": "markdown",
      "metadata": {
        "id": "view-in-github",
        "colab_type": "text"
      },
      "source": [
        "<a href=\"https://colab.research.google.com/github/PedroVerardo/my_1_WebScraping/blob/main/my_1_WebScraping.ipynb\" target=\"_parent\"><img src=\"https://colab.research.google.com/assets/colab-badge.svg\" alt=\"Open In Colab\"/></a>"
      ]
    },
    {
      "cell_type": "code",
      "execution_count": null,
      "metadata": {
        "id": "7FmGJGvsp6Yn",
        "colab": {
          "base_uri": "https://localhost:8080/"
        },
        "outputId": "3e494f30-edeb-40f4-cfd9-feede7979739"
      },
      "outputs": [
        {
          "name": "stdout",
          "output_type": "stream",
          "text": [
            "(largura)/(Perfil)R(aro)225/60r17\n"
          ]
        },
        {
          "output_type": "stream",
          "name": "stderr",
          "text": [
            "/usr/local/lib/python3.7/dist-packages/pandas/core/frame.py:5047: SettingWithCopyWarning: \n",
            "A value is trying to be set on a copy of a slice from a DataFrame\n",
            "\n",
            "See the caveats in the documentation: https://pandas.pydata.org/pandas-docs/stable/user_guide/indexing.html#returning-a-view-versus-a-copy\n",
            "  errors=errors,\n"
          ]
        }
      ],
      "source": [
        "#Importing libraries\n",
        "from urllib.request import urlopen, urlretrieve\n",
        "from bs4 import BeautifulSoup\n",
        "import pandas as pd\n",
        "\n",
        "#Declaring variable cards\n",
        "cards=[]\n",
        "\n",
        "#define the url\n",
        "url='https://www.pneustore.com.br/'\n",
        "dados=input(\"(largura)/(Perfil)R(aro)\")\n",
        "largura,perfil_aro=dados.split(\"/\")\n",
        "urlnovo=url+\"/search?q=\"+largura+\"%2F\"+perfil_aro+\"%3Arelevance&page=0\"\n",
        "\n",
        "#figuring out the number of pages\n",
        "response=urlopen(urlnovo)\n",
        "html = response.read().decode('utf-8')\n",
        "soup = BeautifulSoup(html, 'html.parser')\n",
        "pag=soup.findAll(\"ul\",{\"class\":\"pagination\"})[0].getText()\n",
        "pag=pag.split(\"\\n\")\n",
        "pages=len(pag[1:-1])\n",
        "\n",
        "#making the maps\n",
        "#(print (cards)) to see better\n",
        "a=0\n",
        "for a in range(pages+1):\n",
        "  response=urlopen(urlnovo[:-1]+str(a))\n",
        "  html = response.read().decode('utf-8')\n",
        "  soup = BeautifulSoup(html, 'html.parser')\n",
        "\n",
        "  \n",
        "  anuncios = soup.findAll('script',{\"type\":\"text/javascript\"})[6].getText()\n",
        "  anuncios = anuncios.replace('\\n',\"\")\n",
        "  anuncios = anuncios.replace('\\t',\"\")\n",
        "  anuncios = anuncios.replace(' ',\"\")\n",
        "  anuncios = anuncios.replace('}',\"\")\n",
        "  anuncios = anuncios.replace(']',\"\")\n",
        "  anuncios=anuncios[92:].split(\"{\")\n",
        "  anuncios=anuncios[1:]\n",
        "\n",
        "\n",
        "  i=0\n",
        "  for i in range(len(anuncios)):\n",
        "    if \"BônusCarrinho\" in anuncios[i]:\n",
        "      anuncios[i]=anuncios[i].replace(\"'BônusCarrinhoR$40,00'\",\"BônusCarrinho\")\n",
        "    anuncios2=anuncios[i].split(\",\")\n",
        "    anuncios3=anuncios2[:8]\n",
        "    for anuncio in anuncios3:\n",
        "      card={}\n",
        "      categoria,valor=anuncio.split(\":\")\n",
        "      card[categoria]=valor\n",
        "      cards.append(card)\n",
        "    i+=1\n",
        "  \n",
        "\n",
        "\n",
        "#Making the DataFrame\n",
        "dataset=pd.DataFrame(cards)\n",
        "i=1\n",
        "I=0\n",
        "while I<len(dataset):\n",
        "  for i in range(7):\n",
        "    if i == 7:\n",
        "      dataset.iat[I,i]=dataset.iat[(i+1)+I,i]\n",
        "    else:\n",
        "      dataset.iat[I,(i+1)]=dataset.iat[(i+1)+I,(i+1)]\n",
        "  I+=8\n",
        "#drop the useless information    \n",
        "dataset2 = dataset.drop(columns=[\"'list'\",\"'position'\"])\n",
        "dataset3=dataset2.dropna()\n",
        "dataset3.rename(columns={\"'name'\":\"name\",\"'id'\":\"id\",\"'price'\":\"price(R$)\",\"'brand'\":\"brand\",\"'category'\":\"category\",\"'variant'\":\"variant\"}, inplace=True)\n",
        "dataset3.to_csv('./dataset.csv', sep=';', index = False, encoding = 'utf-8-sig')\n"
      ]
    },
    {
      "cell_type": "code",
      "source": [
        ""
      ],
      "metadata": {
        "id": "jzfxF7Rv4afw"
      },
      "execution_count": null,
      "outputs": []
    }
  ]
}